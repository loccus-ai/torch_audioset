{
 "cells": [
  {
   "cell_type": "markdown",
   "metadata": {},
   "source": [
    "# Inference experiments with YamNet\n",
    "\n",
    "We will evaluate:\n",
    "- regular YamNet (PyTorch, ONNX and OpenVino) from spectrograms\n",
    "- End-to-end YamNet from waveform"
   ]
  },
  {
   "cell_type": "code",
   "execution_count": 1,
   "metadata": {},
   "outputs": [],
   "source": [
    "import torch\n",
    "import torchaudio\n",
    "from nnAudio import features\n",
    "from scipy.io import wavfile\n",
    "from nnAudio import features\n",
    "import torch\n",
    "\n",
    "import openvino as ov\n",
    "\n",
    "from torch_audioset.yamnet.model import yamnet as torch_yamnet\n",
    "from torch_audioset.data.torch_input_processing import WaveformToInput as TorchTransform\n",
    "import onnxruntime\n",
    "\n",
    "import custom_yamnet_model"
   ]
  },
  {
   "cell_type": "code",
   "execution_count": 2,
   "metadata": {},
   "outputs": [],
   "source": [
    "# wav_file = '/data/audio/loccus-asv-datasets/QA/ASR_evaluation/wav.16kHz/common_voice_en_538718_en.wav'\n",
    "wav_file = '/data/audio/ITW-Music/snr10-inthewild-16khz-inthewild_10002.wav'\n",
    "waveform, sample_rate = torchaudio.load(wav_file, normalize=True)"
   ]
  },
  {
   "cell_type": "markdown",
   "metadata": {},
   "source": [
    "## Frontend validation"
   ]
  },
  {
   "cell_type": "code",
   "execution_count": 3,
   "metadata": {},
   "outputs": [],
   "source": [
    "patches, spectrogram = TorchTransform().wavform_to_log_mel(waveform, 16000)"
   ]
  },
  {
   "cell_type": "markdown",
   "metadata": {},
   "source": [
    "### PyTorch Frontend"
   ]
  },
  {
   "cell_type": "code",
   "execution_count": 4,
   "metadata": {},
   "outputs": [
    {
     "name": "stdout",
     "output_type": "stream",
     "text": [
      "STFT kernels created, time used = 0.0162 seconds\n"
     ]
    }
   ],
   "source": [
    "pt_model = custom_yamnet_model.ModelFrontend()\n",
    "patches_pt = pt_model(waveform)"
   ]
  },
  {
   "cell_type": "markdown",
   "metadata": {},
   "source": [
    "### ONNX Frontend"
   ]
  },
  {
   "cell_type": "code",
   "execution_count": 5,
   "metadata": {},
   "outputs": [],
   "source": [
    "# ONNX    \n",
    "session = onnxruntime.InferenceSession('yamnet_frontend.onnx', providers=['CPUExecutionProvider'])\n",
    "\n",
    "ort_inputs = {session.get_inputs()[0].name: waveform.numpy()}\n",
    "ort_outs = session.run([session.get_outputs()[0].name], ort_inputs)\n",
    "\n",
    "patches_onnx = ort_outs[0]"
   ]
  },
  {
   "cell_type": "markdown",
   "metadata": {},
   "source": [
    "### OpenVino Frontend"
   ]
  },
  {
   "cell_type": "code",
   "execution_count": 6,
   "metadata": {},
   "outputs": [],
   "source": [
    "# OpenVino\n",
    "core = ov.Core()\n",
    "ov_model = core.read_model(model='yamnet_frontend.xml')        \n",
    "compiled_model = ov.compile_model(ov_model, \"CPU\") #, config=config)\n",
    "output_layer = compiled_model.output(0)\n",
    "\n",
    "patches_ov = compiled_model(waveform)[output_layer]"
   ]
  },
  {
   "cell_type": "markdown",
   "metadata": {},
   "source": [
    "## Inference not E2E (starting from spectrogram)"
   ]
  },
  {
   "cell_type": "markdown",
   "metadata": {},
   "source": [
    "### PyTorch"
   ]
  },
  {
   "cell_type": "code",
   "execution_count": 7,
   "metadata": {},
   "outputs": [
    {
     "name": "stderr",
     "output_type": "stream",
     "text": [
      "/tmp/ipykernel_423269/1620709041.py:3: FutureWarning: You are using `torch.load` with `weights_only=False` (the current default value), which uses the default pickle module implicitly. It is possible to construct malicious pickle data which will execute arbitrary code during unpickling (See https://github.com/pytorch/pytorch/blob/main/SECURITY.md#untrusted-models for more details). In a future release, the default value for `weights_only` will be flipped to `True`. This limits the functions that could be executed during unpickling. Arbitrary objects will no longer be allowed to be loaded via this mode unless they are explicitly allowlisted by the user via `torch.serialization.add_safe_globals`. We recommend you start setting `weights_only=True` for any use case where you don't have full control of the loaded file. Please open an issue on GitHub for any issues related to this experimental feature.\n",
      "  pt_model.load_state_dict(torch.load('./yamnet.pth'))\n"
     ]
    }
   ],
   "source": [
    "# PyTorch\n",
    "pt_model = torch_yamnet(pretrained=False)\n",
    "pt_model.load_state_dict(torch.load('./yamnet.pth'))\n",
    "\n",
    "with torch.no_grad():\n",
    "    pt_model.eval()\n",
    "    pred_pt_backend = pt_model(patches)"
   ]
  },
  {
   "cell_type": "markdown",
   "metadata": {},
   "source": [
    "### ONNX"
   ]
  },
  {
   "cell_type": "code",
   "execution_count": 8,
   "metadata": {},
   "outputs": [],
   "source": [
    "# ONNX     \n",
    "session = onnxruntime.InferenceSession('yamnet.onnx', providers=['CPUExecutionProvider'])\n",
    "\n",
    "ort_inputs = {session.get_inputs()[0].name: patches.numpy()}\n",
    "ort_outs = session.run([session.get_outputs()[0].name], ort_inputs)\n",
    "\n",
    "pred_onnx_backend = ort_outs[0]"
   ]
  },
  {
   "cell_type": "markdown",
   "metadata": {},
   "source": [
    "### OpenVino"
   ]
  },
  {
   "cell_type": "code",
   "execution_count": 9,
   "metadata": {},
   "outputs": [],
   "source": [
    "# OpenVino\n",
    "core = ov.Core()\n",
    "ov_model = core.read_model(model='yamnet.xml')        \n",
    "compiled_model = ov.compile_model(ov_model, \"CPU\") #, config=config)\n",
    "output_layer = compiled_model.output(0)\n",
    "\n",
    "pred_ov_backend = compiled_model(patches)[output_layer]"
   ]
  },
  {
   "cell_type": "markdown",
   "metadata": {},
   "source": [
    "## Inference E2E"
   ]
  },
  {
   "cell_type": "markdown",
   "metadata": {},
   "source": [
    "### ONNX E2E"
   ]
  },
  {
   "cell_type": "code",
   "execution_count": 10,
   "metadata": {},
   "outputs": [],
   "source": [
    "# ONNX    \n",
    "session = onnxruntime.InferenceSession('yamnet_e2e.onnx', providers=['CPUExecutionProvider'])\n",
    "\n",
    "ort_inputs = {session.get_inputs()[0].name: waveform.numpy()}\n",
    "ort_outs = session.run([session.get_outputs()[0].name], ort_inputs)\n",
    "\n",
    "pred_e2e_onnx = ort_outs[0]"
   ]
  },
  {
   "cell_type": "markdown",
   "metadata": {},
   "source": [
    "### OpenVino E2E"
   ]
  },
  {
   "cell_type": "code",
   "execution_count": 11,
   "metadata": {},
   "outputs": [],
   "source": [
    "# OpenVino\n",
    "core = ov.Core()\n",
    "ov_model = core.read_model(model='yamnet_e2e.xml')        \n",
    "compiled_model = ov.compile_model(ov_model, \"CPU\") #, config=config)\n",
    "output_layer = compiled_model.output(0)\n",
    "\n",
    "pred_e2e_ov = compiled_model(waveform)[output_layer]"
   ]
  }
 ],
 "metadata": {
  "kernelspec": {
   "display_name": ".venv",
   "language": "python",
   "name": "python3"
  },
  "language_info": {
   "codemirror_mode": {
    "name": "ipython",
    "version": 3
   },
   "file_extension": ".py",
   "mimetype": "text/x-python",
   "name": "python",
   "nbconvert_exporter": "python",
   "pygments_lexer": "ipython3",
   "version": "3.12.6"
  }
 },
 "nbformat": 4,
 "nbformat_minor": 2
}
