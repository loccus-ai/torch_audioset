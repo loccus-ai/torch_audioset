{
 "cells": [
  {
   "cell_type": "markdown",
   "metadata": {},
   "source": [
    "# Inference experiments with YamNet\n",
    "\n",
    "We will evaluate:\n",
    "- regular YamNet (PyTorch, ONNX and OpenVino) from spectrograms\n",
    "- End-to-end YamNet from waveform"
   ]
  },
  {
   "cell_type": "code",
   "execution_count": 1,
   "metadata": {},
   "outputs": [],
   "source": [
    "import torch\n",
    "import torchaudio\n",
    "from nnAudio import features\n",
    "from scipy.io import wavfile\n",
    "from nnAudio import features\n",
    "import torch\n",
    "\n",
    "import openvino as ov\n",
    "\n",
    "from torch_audioset.yamnet.model import yamnet as torch_yamnet\n",
    "from torch_audioset.data.torch_input_processing import WaveformToInput as TorchTransform\n",
    "import onnxruntime"
   ]
  },
  {
   "cell_type": "code",
   "execution_count": null,
   "metadata": {},
   "outputs": [],
   "source": [
    "wav_file = '/data/audio/loccus-asv-datasets/QA/ASR_evaluation/wav.16kHz/common_voice_en_538718_en.wav'\n",
    "waveform, sample_rate = torchaudio.load(wav_file, normalize=True)"
   ]
  },
  {
   "cell_type": "markdown",
   "metadata": {},
   "source": [
    "## Inference not E2E (starting from spectrogram)"
   ]
  },
  {
   "cell_type": "code",
   "execution_count": 6,
   "metadata": {},
   "outputs": [],
   "source": [
    "patches, spectrogram = TorchTransform().wavform_to_log_mel(waveform, 16000)"
   ]
  },
  {
   "cell_type": "markdown",
   "metadata": {},
   "source": [
    "### PyTorch"
   ]
  },
  {
   "cell_type": "code",
   "execution_count": 7,
   "metadata": {},
   "outputs": [
    {
     "name": "stderr",
     "output_type": "stream",
     "text": [
      "/tmp/ipykernel_498644/3264063586.py:3: FutureWarning: You are using `torch.load` with `weights_only=False` (the current default value), which uses the default pickle module implicitly. It is possible to construct malicious pickle data which will execute arbitrary code during unpickling (See https://github.com/pytorch/pytorch/blob/main/SECURITY.md#untrusted-models for more details). In a future release, the default value for `weights_only` will be flipped to `True`. This limits the functions that could be executed during unpickling. Arbitrary objects will no longer be allowed to be loaded via this mode unless they are explicitly allowlisted by the user via `torch.serialization.add_safe_globals`. We recommend you start setting `weights_only=True` for any use case where you don't have full control of the loaded file. Please open an issue on GitHub for any issues related to this experimental feature.\n",
      "  pt_model.load_state_dict(torch.load('./yamnet.pth'))\n"
     ]
    }
   ],
   "source": [
    "# PyTorch\n",
    "pt_model = torch_yamnet(pretrained=False)\n",
    "pt_model.load_state_dict(torch.load('./yamnet.pth'))\n",
    "\n",
    "with torch.no_grad():\n",
    "    pt_model.eval()\n",
    "    pt_pred = pt_model(patches, to_prob=True)"
   ]
  },
  {
   "cell_type": "markdown",
   "metadata": {},
   "source": [
    "### ONNX"
   ]
  },
  {
   "cell_type": "code",
   "execution_count": 10,
   "metadata": {},
   "outputs": [],
   "source": [
    "# ONNX\n",
    "opts = onnxruntime.SessionOptions()\n",
    "opts.inter_op_num_threads = 1\n",
    "opts.intra_op_num_threads = 1      \n",
    "session = onnxruntime.InferenceSession('yamnet.onnx', providers=['CPUExecutionProvider'], sess_options=opts)\n",
    "\n",
    "ort_inputs = {session.get_inputs()[0].name: patches.numpy()}\n",
    "ort_outs = session.run([session.get_outputs()[0].name], ort_inputs)\n",
    "\n",
    "onnx_pred = ort_outs[0]"
   ]
  },
  {
   "cell_type": "markdown",
   "metadata": {},
   "source": [
    "### OpenVino"
   ]
  },
  {
   "cell_type": "code",
   "execution_count": 12,
   "metadata": {},
   "outputs": [],
   "source": [
    "# OpenVino\n",
    "core = ov.Core()\n",
    "ov_model = core.read_model(model='yamnet.xml')        \n",
    "compiled_model = ov.compile_model(ov_model, \"CPU\") #, config=config)\n",
    "output_layer = compiled_model.output(0)\n",
    "\n",
    "ov_pred = compiled_model(patches)[output_layer]"
   ]
  }
 ],
 "metadata": {
  "kernelspec": {
   "display_name": ".venv",
   "language": "python",
   "name": "python3"
  },
  "language_info": {
   "codemirror_mode": {
    "name": "ipython",
    "version": 3
   },
   "file_extension": ".py",
   "mimetype": "text/x-python",
   "name": "python",
   "nbconvert_exporter": "python",
   "pygments_lexer": "ipython3",
   "version": "3.12.6"
  }
 },
 "nbformat": 4,
 "nbformat_minor": 2
}
