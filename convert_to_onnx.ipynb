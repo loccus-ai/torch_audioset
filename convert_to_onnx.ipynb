{
 "cells": [
  {
   "cell_type": "code",
   "execution_count": 13,
   "metadata": {},
   "outputs": [],
   "source": [
    "import torch\n",
    "import torchaudio\n",
    "from nnAudio import features\n",
    "from scipy.io import wavfile\n",
    "from nnAudio import features\n",
    "import torch\n",
    "\n",
    "import openvino as ov\n",
    "\n",
    "from torch_audioset.yamnet.model import yamnet as torch_yamnet\n",
    "from torch_audioset.data.torch_input_processing import WaveformToInput as TorchTransform\n",
    "import onnxruntime"
   ]
  },
  {
   "cell_type": "code",
   "execution_count": 2,
   "metadata": {},
   "outputs": [],
   "source": [
    "wav_file = '/data/audio/ITW-Music/snr10-inthewild-16khz-inthewild_10002.wav'\n",
    "waveform, sample_rate = torchaudio.load(wav_file, normalize=True)\n",
    "# transform = torchaudio.transforms.Spectrogram(n_fft=512)\n",
    "# spectrogram = transform(waveform)"
   ]
  },
  {
   "cell_type": "code",
   "execution_count": 3,
   "metadata": {},
   "outputs": [],
   "source": [
    "\n",
    "tt_model = TorchTransform()\n",
    "\n",
    "patches, spectrogram = tt_model.wavform_to_log_mel(waveform, 16000)\n",
    "\n",
    "patches2 = tt_model(waveform, sample_rate)\n",
    "\n",
    "spectrogram_direct = tt_model.mel_trans_ope.spectrogram(waveform)\n",
    "spectrogram_direct = spectrogram_direct ** 0.5\n",
    "mel_specgram_direct= tt_model.mel_trans_ope.mel_scale(spectrogram_direct)\n",
    "mel_specgram_direct = torch.log(mel_specgram_direct + 0.001)\n",
    "mel_specgram_direct = mel_specgram_direct.squeeze(dim=0).T \n"
   ]
  },
  {
   "cell_type": "code",
   "execution_count": null,
   "metadata": {},
   "outputs": [],
   "source": [
    "\n",
    "\n",
    "\n",
    "class Model(torch.nn.Module):\n",
    "    def __init__(self):\n",
    "        super().__init__()\n",
    "        self.epsilon=1e-10\n",
    "        # Getting Mel Spectrogram on the fly\n",
    "        self.spec_layer = features.STFT(n_fft=512, win_length=400, freq_bins=None,\n",
    "                                           hop_length=160, window='hann',\n",
    "                                           freq_scale='no', center=True,\n",
    "                                           pad_mode='reflect', fmin=125,\n",
    "                                           fmax=7500, sr=16000, trainable=False,\n",
    "                                           output_format='Magnitude')\n",
    "        # self.mel_spec_layer = features.mel.MelSpectrogram(sr=16000, n_fft=512, win_length=400, n_mels=64,\n",
    "        #                                                   hop_length=160, window='hann',\n",
    "        #                                                   center=True, pad_mode='reflect',\n",
    "        #                                                   power = 2.0, htk = True,\n",
    "        #                                                   fmin = 125, fmax = 7500, norm = None)\n",
    "        \n",
    "        \n",
    "        self.mel_scale = torchaudio.transforms.MelScale(\n",
    "            n_mels = 64, sample_rate = 16000, f_min = 125, f_max = 7500, n_stft=512 // 2 + 1, norm = None, mel_scale = 'htk'\n",
    "        )\n",
    "        self.yamnet_model = torch_yamnet(pretrained=False)\n",
    "        # Manually download the `yamnet.pth` file.\n",
    "        self.yamnet_model.load_state_dict(torch.load('./yamnet.pth'))\n",
    "        \n",
    "    def _get_mel_specgram(self,x):\n",
    "        specgram = self.spec_layer(x)\n",
    "        mel_specgram = self.mel_scale(specgram)\n",
    "        mel_specgram = torch.log(mel_specgram + 0.001)\n",
    "        x = mel_specgram.squeeze(dim=0).T \n",
    "        spectrogram = x\n",
    "        \n",
    "        window_size_in_frames = int(round(\n",
    "            0.96 / 0.010\n",
    "        ))\n",
    "        # num_chunks = x.shape[0] // window_size_in_frames\n",
    "\n",
    "        # reshape into chunks of non-overlapping sliding window\n",
    "        # num_frames_to_use = num_chunks * window_size_in_frames\n",
    "        # x = x[:num_frames_to_use]\n",
    "        # # [num_chunks, 1, window_size, num_freq]\n",
    "        # x = x.reshape(num_chunks, 1, window_size_in_frames, x.shape[-1])\n",
    "\n",
    "        patch_hop_in_frames = int(round(\n",
    "            1.0 / 0.010\n",
    "        ))\n",
    "        # TODO performance optimization with zero copy\n",
    "        patch_hop_num_chunks = (x.shape[0] - window_size_in_frames) // patch_hop_in_frames + 1\n",
    "        num_frames_to_use = window_size_in_frames + (patch_hop_num_chunks - 1) * patch_hop_in_frames\n",
    "        x = x[:num_frames_to_use]\n",
    "        x_in_frames = x.reshape(-1, x.shape[-1])\n",
    "        x_output = torch.empty((patch_hop_num_chunks, window_size_in_frames, x.shape[-1]))\n",
    "        for i in range(patch_hop_num_chunks):\n",
    "            start_frame = i * patch_hop_in_frames\n",
    "            x_output[i] = x_in_frames[start_frame: start_frame + window_size_in_frames]\n",
    "        x = x_output.reshape(patch_hop_num_chunks, 1, window_size_in_frames, x.shape[-1])\n",
    "        # x = torch.tensor(x, dtype=torch.float32)\n",
    "\n",
    "        # z = self.mel_spec_layer(x)\n",
    "        return x, spectrogram\n",
    "\n",
    "    def forward(self, x):\n",
    "        mel_specgram, spectrogram = self._get_mel_specgram(x)\n",
    "        return self.yamnet_model(mel_specgram), spectrogram\n",
    "\n",
    "\n",
    "model = Model()    \n",
    "\n",
    "with torch.no_grad():\n",
    "    model.eval()\n",
    "    y, spectrogram = model(waveform) # automatically convert waveforms into spectrograms\n",
    "\n",
    "    torch.onnx.export(model,               # model being run\n",
    "        waveform,                         # model input (or a tuple for multiple inputs)\n",
    "        'my_model.onnx',            # where to save the model (can be a file or file-like object)\n",
    "        verbose=True)\n",
    "\n",
    "    # print(f'STFT all close: {torch.allclose(x_stft, x_stft_mel)}')\n",
    "\n",
    "    # y = y.squeeze(dim=0).T \n",
    "    # y = torch.log(y + 0.001)\n",
    "    print(f'min val: {torch.min(y)}, max val: {torch.max(y)}, mean val: {torch.mean(y)}, std val: {torch.std(y)}')\n",
    "    torch.allclose(patches, y, atol=1e-5)\n",
    "\n",
    "\n",
    "pt_model = torch_yamnet(pretrained=False)\n",
    "# Manually download the `yamnet.pth` file.\n",
    "pt_model.load_state_dict(torch.load('./yamnet.pth'))\n",
    "\n",
    "patches, spectrogram = TorchTransform().wavform_to_log_mel(waveform, 16000)\n",
    "\n",
    "\n",
    "with torch.no_grad():\n",
    "    pt_model.eval()\n",
    "    # x = torch.from_numpy(patches)\n",
    "    # x = x.unsqueeze(1)  # [5, 96, 64] -> [5, 1, 96, 64]\n",
    "    x = y # patches\n",
    "    pt_pred = pt_model(x, to_prob=True)\n",
    "    # pt_pred = pt_pred.numpy()\n",
    "    \n",
    "    pt_pred2 = pt_model(patches, to_prob=True)\n",
    "    \n"
   ]
  },
  {
   "cell_type": "code",
   "execution_count": null,
   "metadata": {},
   "outputs": [],
   "source": [
    "model = TorchTransform()\n",
    "x = model(waveform, sample_rate)\n",
    "torch.onnx.export(model,               # model being run\n",
    "    (waveform, x),                         # model input (or a tuple for multiple inputs)\n",
    "    'torch_transform.onnx',            # where to save the model (can be a file or file-like object)\n",
    "    verbose=True)"
   ]
  },
  {
   "cell_type": "code",
   "execution_count": null,
   "metadata": {},
   "outputs": [],
   "source": [
    "# using nnAudio\n",
    "sr = 16000\n",
    "waveforms = torch.randn(1,sr)\n",
    "\n",
    "spec_layer = features.STFT(n_fft=512, win_length=0.025*sr, freq_bins=None, hop_length=0.010*sr,\n",
    "                              window='hann', freq_scale='linear', center=True, pad_mode='reflect',\n",
    "                              fmin=50,fmax=11025, sr=sr) # Initializing the model\n",
    "spectrogram_nnaudio = spec_layer(waveforms)"
   ]
  },
  {
   "cell_type": "code",
   "execution_count": null,
   "metadata": {},
   "outputs": [],
   "source": [
    "spec_layer.eval()\n",
    "torch.onnx.export(spec_layer,               # model being run\n",
    "    waveform,                         # model input (or a tuple for multiple inputs)\n",
    "    'specgram_nnaudio.onnx',            # where to save the model (can be a file or file-like object)\n",
    "    verbose=True)"
   ]
  },
  {
   "cell_type": "code",
   "execution_count": null,
   "metadata": {},
   "outputs": [],
   "source": [
    "transform.eval()\n",
    "torch.onnx.export(transform,               # model being run\n",
    "    waveform,                         # model input (or a tuple for multiple inputs)\n",
    "    'specgram.onnx',            # where to save the model (can be a file or file-like object)\n",
    "    verbose=True)"
   ]
  },
  {
   "cell_type": "markdown",
   "metadata": {},
   "source": [
    "## Inference not E2E (starting from spectrogram)"
   ]
  },
  {
   "cell_type": "code",
   "execution_count": 3,
   "metadata": {},
   "outputs": [],
   "source": [
    "wav_file = '/data/audio/loccus-asv-datasets/QA/ASR_evaluation/wav.16kHz/common_voice_en_538718_en.wav'\n",
    "waveform, sample_rate = torchaudio.load(wav_file, normalize=True)"
   ]
  },
  {
   "cell_type": "code",
   "execution_count": 6,
   "metadata": {},
   "outputs": [],
   "source": [
    "patches, spectrogram = TorchTransform().wavform_to_log_mel(waveform, 16000)"
   ]
  },
  {
   "cell_type": "code",
   "execution_count": null,
   "metadata": {},
   "outputs": [],
   "source": [
    "# PyTorch\n",
    "pt_model = torch_yamnet(pretrained=False)\n",
    "pt_model.load_state_dict(torch.load('./yamnet.pth'))\n",
    "\n",
    "with torch.no_grad():\n",
    "    pt_model.eval()\n",
    "    pt_pred = pt_model(patches, to_prob=True)"
   ]
  },
  {
   "cell_type": "code",
   "execution_count": 10,
   "metadata": {},
   "outputs": [],
   "source": [
    "# ONNX\n",
    "opts = onnxruntime.SessionOptions()\n",
    "opts.inter_op_num_threads = 1\n",
    "opts.intra_op_num_threads = 1      \n",
    "session = onnxruntime.InferenceSession('yamnet.onnx', providers=['CPUExecutionProvider'], sess_options=opts)\n",
    "\n",
    "ort_inputs = {session.get_inputs()[0].name: patches.numpy()}\n",
    "ort_outs = session.run([session.get_outputs()[0].name], ort_inputs)\n",
    "\n",
    "onnx_pred = ort_outs[0]"
   ]
  },
  {
   "cell_type": "code",
   "execution_count": 12,
   "metadata": {},
   "outputs": [],
   "source": [
    "# OpenVino\n",
    "core = ov.Core()\n",
    "ov_model = core.read_model(model='yamnet.xml')        \n",
    "compiled_model = ov.compile_model(ov_model, \"CPU\") #, config=config)\n",
    "output_layer = compiled_model.output(0)\n",
    "\n",
    "ov_pred = compiled_model(patches)[output_layer]"
   ]
  }
 ],
 "metadata": {
  "kernelspec": {
   "display_name": ".venv",
   "language": "python",
   "name": "python3"
  },
  "language_info": {
   "codemirror_mode": {
    "name": "ipython",
    "version": 3
   },
   "file_extension": ".py",
   "mimetype": "text/x-python",
   "name": "python",
   "nbconvert_exporter": "python",
   "pygments_lexer": "ipython3",
   "version": "3.12.6"
  }
 },
 "nbformat": 4,
 "nbformat_minor": 2
}
