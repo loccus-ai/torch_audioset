{
 "cells": [
  {
   "cell_type": "code",
   "execution_count": 1,
   "metadata": {},
   "outputs": [],
   "source": [
    "import torch\n",
    "import torchaudio\n",
    "from nnAudio import features\n",
    "from scipy.io import wavfile\n",
    "from nnAudio import features\n",
    "import torch\n",
    "\n",
    "import openvino as ov\n",
    "\n",
    "from torch_audioset.yamnet.model import yamnet as torch_yamnet\n",
    "from torch_audioset.data.torch_input_processing import WaveformToInput as TorchTransform\n",
    "import onnxruntime"
   ]
  },
  {
   "cell_type": "code",
   "execution_count": 2,
   "metadata": {},
   "outputs": [],
   "source": [
    "wav_file = '/data/audio/ITW-Music/snr10-inthewild-16khz-inthewild_10002.wav'\n",
    "waveform, sample_rate = torchaudio.load(wav_file, normalize=True)\n",
    "# transform = torchaudio.transforms.Spectrogram(n_fft=512)\n",
    "# spectrogram = transform(waveform)"
   ]
  },
  {
   "cell_type": "markdown",
   "metadata": {},
   "source": [
    "## Export frontend (mel-spectrogram)"
   ]
  },
  {
   "cell_type": "code",
   "execution_count": null,
   "metadata": {},
   "outputs": [
    {
     "name": "stdout",
     "output_type": "stream",
     "text": [
      "STFT kernels created, time used = 0.0055 seconds\n"
     ]
    }
   ],
   "source": [
    "import custom_yamnet_model\n",
    "\n",
    "frontend_model = custom_yamnet_model.ModelFrontend()\n",
    "specgram = frontend_model(waveform)\n",
    "frontend_model.eval()\n",
    "torch.onnx.export(frontend_model,               # model being run\n",
    "    waveform,                         # model input (or a tuple for multiple inputs)\n",
    "    'yamnet_frontend.onnx',            # where to save the model (can be a file or file-like object)\n",
    "    verbose=True,\n",
    "    input_names = ['input'],\n",
    "    dynamic_axes={\n",
    "        'input' : {0 : 'chunk_length'},\n",
    "        }\n",
    "    )"
   ]
  },
  {
   "cell_type": "markdown",
   "metadata": {},
   "source": [
    "## Export only YamNet (no spectrogram)"
   ]
  },
  {
   "cell_type": "code",
   "execution_count": null,
   "metadata": {},
   "outputs": [],
   "source": [
    "pt_model = torch_yamnet(pretrained=False)\n",
    "pt_model.load_state_dict(torch.load('./yamnet.pth'))\n",
    "\n",
    "patches, spectrogram = TorchTransform().wavform_to_log_mel(waveform, 16000)"
   ]
  },
  {
   "cell_type": "code",
   "execution_count": null,
   "metadata": {},
   "outputs": [],
   "source": [
    "with torch.no_grad():\n",
    "    pt_model.eval()\n",
    "    torch.onnx.export(pt_model,               # model being run\n",
    "        patches,                         # model input (or a tuple for multiple inputs)\n",
    "        'yamnet.onnx',            # where to save the model (can be a file or file-like object)\n",
    "        verbose=True)"
   ]
  },
  {
   "cell_type": "markdown",
   "metadata": {},
   "source": [
    "## Export E2E (spectrogram + YamNet)"
   ]
  },
  {
   "cell_type": "code",
   "execution_count": null,
   "metadata": {},
   "outputs": [],
   "source": [
    "\n",
    "tt_model = TorchTransform()\n",
    "\n",
    "patches, spectrogram = tt_model.wavform_to_log_mel(waveform, 16000)\n",
    "\n",
    "patches2 = tt_model(waveform, sample_rate)\n",
    "\n",
    "spectrogram_direct = tt_model.mel_trans_ope.spectrogram(waveform)\n",
    "spectrogram_direct = spectrogram_direct ** 0.5\n",
    "mel_specgram_direct= tt_model.mel_trans_ope.mel_scale(spectrogram_direct)\n",
    "mel_specgram_direct = torch.log(mel_specgram_direct + 0.001)\n",
    "mel_specgram_direct = mel_specgram_direct.squeeze(dim=0).T \n"
   ]
  },
  {
   "cell_type": "code",
   "execution_count": null,
   "metadata": {},
   "outputs": [],
   "source": [
    "import custom_yamnet_model as Model\n",
    "\n",
    "model = Model()    \n",
    "\n",
    "with torch.no_grad():\n",
    "    model.eval()\n",
    "    y, spectrogram = model(waveform) # automatically convert waveforms into spectrograms\n",
    "\n",
    "    torch.onnx.export(model,               # model being run\n",
    "        waveform,                         # model input (or a tuple for multiple inputs)\n",
    "        'yamnet_e2e.onnx',            # where to save the model (can be a file or file-like object)\n",
    "        verbose=True)\n",
    "\n",
    "    # print(f'STFT all close: {torch.allclose(x_stft, x_stft_mel)}')\n",
    "\n",
    "    # y = y.squeeze(dim=0).T \n",
    "    # y = torch.log(y + 0.001)\n",
    "    print(f'min val: {torch.min(y)}, max val: {torch.max(y)}, mean val: {torch.mean(y)}, std val: {torch.std(y)}')\n",
    "    torch.allclose(patches, y, atol=1e-5)\n",
    "\n",
    "\n",
    "pt_model = torch_yamnet(pretrained=False)\n",
    "# Manually download the `yamnet.pth` file.\n",
    "pt_model.load_state_dict(torch.load('./yamnet.pth'))\n",
    "\n",
    "patches, spectrogram = TorchTransform().wavform_to_log_mel(waveform, 16000)\n",
    "\n",
    "\n",
    "with torch.no_grad():\n",
    "    pt_model.eval()\n",
    "    # x = torch.from_numpy(patches)\n",
    "    # x = x.unsqueeze(1)  # [5, 96, 64] -> [5, 1, 96, 64]\n",
    "    x = y # patches\n",
    "    pt_pred = pt_model(x, to_prob=True)\n",
    "    # pt_pred = pt_pred.numpy()\n",
    "    \n",
    "    pt_pred2 = pt_model(patches, to_prob=True)\n",
    "    \n"
   ]
  },
  {
   "cell_type": "code",
   "execution_count": null,
   "metadata": {},
   "outputs": [],
   "source": [
    "model = TorchTransform()\n",
    "x = model(waveform, sample_rate)\n",
    "torch.onnx.export(model,               # model being run\n",
    "    (waveform, x),                         # model input (or a tuple for multiple inputs)\n",
    "    'torch_transform.onnx',            # where to save the model (can be a file or file-like object)\n",
    "    verbose=True)"
   ]
  },
  {
   "cell_type": "code",
   "execution_count": null,
   "metadata": {},
   "outputs": [],
   "source": [
    "# using nnAudio\n",
    "sr = 16000\n",
    "waveforms = torch.randn(1,sr)\n",
    "\n",
    "spec_layer = features.STFT(n_fft=512, win_length=0.025*sr, freq_bins=None, hop_length=0.010*sr,\n",
    "                              window='hann', freq_scale='linear', center=True, pad_mode='reflect',\n",
    "                              fmin=50,fmax=11025, sr=sr) # Initializing the model\n",
    "spectrogram_nnaudio = spec_layer(waveforms)"
   ]
  },
  {
   "cell_type": "code",
   "execution_count": null,
   "metadata": {},
   "outputs": [],
   "source": [
    "spec_layer.eval()\n",
    "torch.onnx.export(spec_layer,               # model being run\n",
    "    waveform,                         # model input (or a tuple for multiple inputs)\n",
    "    'specgram_nnaudio.onnx',            # where to save the model (can be a file or file-like object)\n",
    "    verbose=True)"
   ]
  },
  {
   "cell_type": "code",
   "execution_count": null,
   "metadata": {},
   "outputs": [],
   "source": [
    "transform.eval()\n",
    "torch.onnx.export(transform,               # model being run\n",
    "    waveform,                         # model input (or a tuple for multiple inputs)\n",
    "    'specgram.onnx',            # where to save the model (can be a file or file-like object)\n",
    "    verbose=True)"
   ]
  }
 ],
 "metadata": {
  "kernelspec": {
   "display_name": "Python 3 (ipykernel)",
   "language": "python",
   "name": "python3"
  },
  "language_info": {
   "codemirror_mode": {
    "name": "ipython",
    "version": 3
   },
   "file_extension": ".py",
   "mimetype": "text/x-python",
   "name": "python",
   "nbconvert_exporter": "python",
   "pygments_lexer": "ipython3",
   "version": "3.12.6"
  }
 },
 "nbformat": 4,
 "nbformat_minor": 4
}
